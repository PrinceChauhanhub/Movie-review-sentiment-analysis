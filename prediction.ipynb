{
 "cells": [
  {
   "cell_type": "code",
   "execution_count": 1,
   "metadata": {},
   "outputs": [],
   "source": [
    "import numpy as np\n",
    "import pandas as pd\n",
    "import tensorflow as tf\n",
    "from tensorflow.keras.datasets import imdb\n",
    "from tensorflow.keras.preprocessing import sequence\n",
    "from tensorflow.keras.models import load_model"
   ]
  },
  {
   "cell_type": "code",
   "execution_count": 2,
   "metadata": {},
   "outputs": [],
   "source": [
    "## Load the IMDB dataset word index\n",
    "word_index = imdb.get_word_index()\n",
    "reverse_word_index = {value: key for key , value in word_index.items()}"
   ]
  },
  {
   "cell_type": "code",
   "execution_count": 3,
   "metadata": {},
   "outputs": [
    {
     "name": "stderr",
     "output_type": "stream",
     "text": [
      "WARNING:absl:Compiled the loaded model, but the compiled metrics have yet to be built. `model.compile_metrics` will be empty until you train or evaluate the model.\n"
     ]
    },
    {
     "data": {
      "text/html": [
       "<pre style=\"white-space:pre;overflow-x:auto;line-height:normal;font-family:Menlo,'DejaVu Sans Mono',consolas,'Courier New',monospace\"><span style=\"font-weight: bold\">Model: \"sequential\"</span>\n",
       "</pre>\n"
      ],
      "text/plain": [
       "\u001b[1mModel: \"sequential\"\u001b[0m\n"
      ]
     },
     "metadata": {},
     "output_type": "display_data"
    },
    {
     "data": {
      "text/html": [
       "<pre style=\"white-space:pre;overflow-x:auto;line-height:normal;font-family:Menlo,'DejaVu Sans Mono',consolas,'Courier New',monospace\">┏━━━━━━━━━━━━━━━━━━━━━━━━━━━━━━━━━┳━━━━━━━━━━━━━━━━━━━━━━━━┳━━━━━━━━━━━━━━━┓\n",
       "┃<span style=\"font-weight: bold\"> Layer (type)                    </span>┃<span style=\"font-weight: bold\"> Output Shape           </span>┃<span style=\"font-weight: bold\">       Param # </span>┃\n",
       "┡━━━━━━━━━━━━━━━━━━━━━━━━━━━━━━━━━╇━━━━━━━━━━━━━━━━━━━━━━━━╇━━━━━━━━━━━━━━━┩\n",
       "│ embedding (<span style=\"color: #0087ff; text-decoration-color: #0087ff\">Embedding</span>)           │ (<span style=\"color: #00d7ff; text-decoration-color: #00d7ff\">None</span>, <span style=\"color: #00af00; text-decoration-color: #00af00\">500</span>, <span style=\"color: #00af00; text-decoration-color: #00af00\">128</span>)       │     <span style=\"color: #00af00; text-decoration-color: #00af00\">1,280,000</span> │\n",
       "├─────────────────────────────────┼────────────────────────┼───────────────┤\n",
       "│ simple_rnn (<span style=\"color: #0087ff; text-decoration-color: #0087ff\">SimpleRNN</span>)          │ (<span style=\"color: #00d7ff; text-decoration-color: #00d7ff\">None</span>, <span style=\"color: #00af00; text-decoration-color: #00af00\">128</span>)            │        <span style=\"color: #00af00; text-decoration-color: #00af00\">32,896</span> │\n",
       "├─────────────────────────────────┼────────────────────────┼───────────────┤\n",
       "│ dense (<span style=\"color: #0087ff; text-decoration-color: #0087ff\">Dense</span>)                   │ (<span style=\"color: #00d7ff; text-decoration-color: #00d7ff\">None</span>, <span style=\"color: #00af00; text-decoration-color: #00af00\">1</span>)              │           <span style=\"color: #00af00; text-decoration-color: #00af00\">129</span> │\n",
       "└─────────────────────────────────┴────────────────────────┴───────────────┘\n",
       "</pre>\n"
      ],
      "text/plain": [
       "┏━━━━━━━━━━━━━━━━━━━━━━━━━━━━━━━━━┳━━━━━━━━━━━━━━━━━━━━━━━━┳━━━━━━━━━━━━━━━┓\n",
       "┃\u001b[1m \u001b[0m\u001b[1mLayer (type)                   \u001b[0m\u001b[1m \u001b[0m┃\u001b[1m \u001b[0m\u001b[1mOutput Shape          \u001b[0m\u001b[1m \u001b[0m┃\u001b[1m \u001b[0m\u001b[1m      Param #\u001b[0m\u001b[1m \u001b[0m┃\n",
       "┡━━━━━━━━━━━━━━━━━━━━━━━━━━━━━━━━━╇━━━━━━━━━━━━━━━━━━━━━━━━╇━━━━━━━━━━━━━━━┩\n",
       "│ embedding (\u001b[38;5;33mEmbedding\u001b[0m)           │ (\u001b[38;5;45mNone\u001b[0m, \u001b[38;5;34m500\u001b[0m, \u001b[38;5;34m128\u001b[0m)       │     \u001b[38;5;34m1,280,000\u001b[0m │\n",
       "├─────────────────────────────────┼────────────────────────┼───────────────┤\n",
       "│ simple_rnn (\u001b[38;5;33mSimpleRNN\u001b[0m)          │ (\u001b[38;5;45mNone\u001b[0m, \u001b[38;5;34m128\u001b[0m)            │        \u001b[38;5;34m32,896\u001b[0m │\n",
       "├─────────────────────────────────┼────────────────────────┼───────────────┤\n",
       "│ dense (\u001b[38;5;33mDense\u001b[0m)                   │ (\u001b[38;5;45mNone\u001b[0m, \u001b[38;5;34m1\u001b[0m)              │           \u001b[38;5;34m129\u001b[0m │\n",
       "└─────────────────────────────────┴────────────────────────┴───────────────┘\n"
      ]
     },
     "metadata": {},
     "output_type": "display_data"
    },
    {
     "data": {
      "text/html": [
       "<pre style=\"white-space:pre;overflow-x:auto;line-height:normal;font-family:Menlo,'DejaVu Sans Mono',consolas,'Courier New',monospace\"><span style=\"font-weight: bold\"> Total params: </span><span style=\"color: #00af00; text-decoration-color: #00af00\">1,313,027</span> (5.01 MB)\n",
       "</pre>\n"
      ],
      "text/plain": [
       "\u001b[1m Total params: \u001b[0m\u001b[38;5;34m1,313,027\u001b[0m (5.01 MB)\n"
      ]
     },
     "metadata": {},
     "output_type": "display_data"
    },
    {
     "data": {
      "text/html": [
       "<pre style=\"white-space:pre;overflow-x:auto;line-height:normal;font-family:Menlo,'DejaVu Sans Mono',consolas,'Courier New',monospace\"><span style=\"font-weight: bold\"> Trainable params: </span><span style=\"color: #00af00; text-decoration-color: #00af00\">1,313,025</span> (5.01 MB)\n",
       "</pre>\n"
      ],
      "text/plain": [
       "\u001b[1m Trainable params: \u001b[0m\u001b[38;5;34m1,313,025\u001b[0m (5.01 MB)\n"
      ]
     },
     "metadata": {},
     "output_type": "display_data"
    },
    {
     "data": {
      "text/html": [
       "<pre style=\"white-space:pre;overflow-x:auto;line-height:normal;font-family:Menlo,'DejaVu Sans Mono',consolas,'Courier New',monospace\"><span style=\"font-weight: bold\"> Non-trainable params: </span><span style=\"color: #00af00; text-decoration-color: #00af00\">0</span> (0.00 B)\n",
       "</pre>\n"
      ],
      "text/plain": [
       "\u001b[1m Non-trainable params: \u001b[0m\u001b[38;5;34m0\u001b[0m (0.00 B)\n"
      ]
     },
     "metadata": {},
     "output_type": "display_data"
    },
    {
     "data": {
      "text/html": [
       "<pre style=\"white-space:pre;overflow-x:auto;line-height:normal;font-family:Menlo,'DejaVu Sans Mono',consolas,'Courier New',monospace\"><span style=\"font-weight: bold\"> Optimizer params: </span><span style=\"color: #00af00; text-decoration-color: #00af00\">2</span> (12.00 B)\n",
       "</pre>\n"
      ],
      "text/plain": [
       "\u001b[1m Optimizer params: \u001b[0m\u001b[38;5;34m2\u001b[0m (12.00 B)\n"
      ]
     },
     "metadata": {},
     "output_type": "display_data"
    }
   ],
   "source": [
    "## Load the pretrained model with relu activation\n",
    "model = load_model('simple_rnn_imdb.h5')\n",
    "model.summary()"
   ]
  },
  {
   "cell_type": "code",
   "execution_count": 4,
   "metadata": {},
   "outputs": [
    {
     "data": {
      "text/plain": [
       "[array([[ 0.4431999 , -0.5621039 , -0.53015053, ..., -0.5956797 ,\n",
       "          0.44469514, -0.38992438],\n",
       "        [ 0.0104157 ,  0.00494908, -0.0986281 , ...,  0.00969939,\n",
       "          0.11267088, -0.06473   ],\n",
       "        [ 0.05786093, -0.05839724, -0.17639714, ..., -0.05023438,\n",
       "          0.10654214, -0.07275551],\n",
       "        ...,\n",
       "        [-0.05293139, -0.08070216,  0.00207304, ..., -0.14768068,\n",
       "          0.09785464,  0.00512121],\n",
       "        [ 0.10349113,  0.10747492,  0.1103337 , ...,  0.03361459,\n",
       "         -0.017057  , -0.06215321],\n",
       "        [-0.08158244, -0.05589452, -0.09200343, ..., -0.02285942,\n",
       "         -0.04266018,  0.0524684 ]], dtype=float32),\n",
       " array([[-0.08957444,  0.00029188,  0.06170413, ...,  0.03558874,\n",
       "          0.03324373, -0.00509761],\n",
       "        [-0.02084111,  0.15034506,  0.09511222, ..., -0.09188382,\n",
       "          0.03098516,  0.14693156],\n",
       "        [ 0.01093884,  0.08217102,  0.11375266, ..., -0.02532261,\n",
       "         -0.13496168, -0.09355379],\n",
       "        ...,\n",
       "        [-0.14110182, -0.07539164, -0.02476063, ..., -0.00848193,\n",
       "          0.18282469, -0.00558304],\n",
       "        [ 0.12665191,  0.10857558,  0.01812597, ..., -0.13073848,\n",
       "         -0.03546991, -0.03622447],\n",
       "        [-0.07861993,  0.00867976, -0.07268127, ...,  0.07802776,\n",
       "          0.13361672, -0.01315946]], dtype=float32),\n",
       " array([[ 0.07734623,  0.27503777,  0.02160802, ..., -0.08275196,\n",
       "         -0.05967434,  0.03899059],\n",
       "        [ 0.1041616 ,  0.00877611,  0.10307958, ..., -0.04977367,\n",
       "         -0.2040376 , -0.04702831],\n",
       "        [ 0.0070914 ,  0.09868668, -0.01153633, ..., -0.10461685,\n",
       "         -0.03240486, -0.05836607],\n",
       "        ...,\n",
       "        [ 0.00334824, -0.0406531 , -0.05813385, ..., -0.18308468,\n",
       "         -0.0813982 , -0.03084482],\n",
       "        [ 0.01781983,  0.06010423,  0.02583085, ...,  0.13726132,\n",
       "          0.09249926, -0.2399576 ],\n",
       "        [-0.0826429 , -0.03844944, -0.00492568, ..., -0.13818112,\n",
       "          0.00594653, -0.17450906]], dtype=float32),\n",
       " array([-5.56454249e-02, -8.66481941e-03,  3.20477895e-02,  7.82346539e-03,\n",
       "        -1.35050733e-02, -5.55946641e-02,  1.45658050e-02,  2.78456174e-02,\n",
       "        -3.55305485e-02, -5.63763492e-02,  3.39383434e-04,  6.01185206e-03,\n",
       "         2.86653414e-02,  4.36306261e-02, -9.80862696e-03, -4.24277641e-05,\n",
       "        -5.33213429e-02, -8.11306294e-03, -2.35794429e-02, -6.03847206e-03,\n",
       "        -6.10255636e-03, -2.21216343e-02,  1.83721371e-02,  8.02596565e-03,\n",
       "         6.66821236e-03,  2.70718709e-02, -7.06844851e-02,  4.65137092e-03,\n",
       "         4.49532196e-02,  4.42262068e-02,  3.07959337e-02,  1.52412048e-02,\n",
       "        -2.22267560e-03, -4.14837003e-02, -3.51024903e-02,  3.06240600e-02,\n",
       "         2.08100099e-02, -3.20714265e-02,  2.96132658e-02, -4.14778627e-02,\n",
       "        -3.56728733e-02,  3.68566019e-03, -1.18708080e-02,  2.02482007e-03,\n",
       "         3.84236611e-02, -3.52426060e-02, -4.01854701e-03, -5.76916747e-02,\n",
       "        -4.96785603e-02, -1.77786648e-02, -7.82402512e-03, -5.53420223e-02,\n",
       "        -1.59831084e-02,  4.91764210e-02, -4.35672365e-02, -8.43350589e-03,\n",
       "        -3.79345305e-02, -4.64835614e-02, -2.47136671e-02, -1.83482002e-02,\n",
       "        -1.54461870e-02, -2.31213998e-02,  1.80087779e-02, -3.91620919e-02,\n",
       "        -3.37264910e-02,  3.37379351e-02, -4.32393663e-02, -1.86227802e-02,\n",
       "         2.35824585e-02, -3.73500250e-02,  4.35798429e-02, -1.35759823e-02,\n",
       "         3.83331650e-03, -5.14304154e-02, -3.22269164e-02, -2.95417979e-02,\n",
       "        -3.01469788e-02,  2.60845255e-02, -1.59936864e-02,  2.14817538e-03,\n",
       "         3.65145728e-02,  1.01057719e-02, -4.37642485e-02,  4.32302058e-02,\n",
       "        -8.45766440e-03,  1.55946752e-03,  2.38979352e-03, -4.37221639e-02,\n",
       "        -4.70226072e-03, -4.59901094e-02,  3.67967822e-02, -1.28080016e-02,\n",
       "        -1.22623201e-02,  2.49220226e-02, -2.91107390e-02, -4.05817106e-02,\n",
       "        -2.22569257e-02, -5.19415475e-02, -3.05235684e-02, -2.59273537e-02,\n",
       "         4.01259586e-03, -3.28950472e-02,  1.26623427e-02,  1.73842479e-02,\n",
       "         1.07068755e-02, -4.03024331e-02,  9.82329547e-02, -6.26819432e-02,\n",
       "         2.94348225e-02,  3.22384723e-02, -6.51141256e-02, -1.72245707e-02,\n",
       "        -2.23429501e-02,  3.34926099e-02, -4.61504348e-02, -4.22499143e-02,\n",
       "         4.00077961e-02, -5.41855060e-02,  5.15142307e-02,  7.22520985e-03,\n",
       "        -4.16672640e-02, -4.08036672e-02, -2.76256446e-03, -4.31998931e-02,\n",
       "         3.41385230e-02, -5.85161261e-02,  7.88416155e-03, -4.04332504e-02],\n",
       "       dtype=float32),\n",
       " array([[-1.68913871e-01],\n",
       "        [-1.63938552e-01],\n",
       "        [-1.19468354e-01],\n",
       "        [-8.03393871e-03],\n",
       "        [-1.24951713e-01],\n",
       "        [ 2.92891622e-01],\n",
       "        [-2.69895848e-02],\n",
       "        [ 2.45894611e-01],\n",
       "        [ 2.91493118e-01],\n",
       "        [ 2.86164492e-01],\n",
       "        [ 1.57078415e-01],\n",
       "        [-1.42229736e-01],\n",
       "        [-1.33262724e-01],\n",
       "        [ 4.25137281e-02],\n",
       "        [-2.30758816e-01],\n",
       "        [-7.56176114e-02],\n",
       "        [ 7.16596842e-02],\n",
       "        [ 8.71779144e-01],\n",
       "        [-6.16348013e-02],\n",
       "        [ 1.24795228e-01],\n",
       "        [-2.00639069e-01],\n",
       "        [ 2.00116187e-01],\n",
       "        [ 1.90798625e-01],\n",
       "        [ 1.95422158e-01],\n",
       "        [-4.00389194e-01],\n",
       "        [ 1.31466895e-01],\n",
       "        [ 1.67407140e-01],\n",
       "        [ 8.14157631e-03],\n",
       "        [ 2.08717614e-01],\n",
       "        [ 1.66677803e-01],\n",
       "        [ 2.00843453e-01],\n",
       "        [-1.90416440e-01],\n",
       "        [-9.88363251e-02],\n",
       "        [-1.19700000e-01],\n",
       "        [ 9.03561786e-02],\n",
       "        [-1.24447029e-02],\n",
       "        [-7.85123855e-02],\n",
       "        [ 1.17190152e-01],\n",
       "        [ 1.13829717e-01],\n",
       "        [-5.40913045e-01],\n",
       "        [-1.55326445e-03],\n",
       "        [ 2.21844867e-01],\n",
       "        [-1.76927388e-01],\n",
       "        [ 8.12448189e-02],\n",
       "        [ 1.16137050e-01],\n",
       "        [ 6.31624553e-03],\n",
       "        [ 1.69165969e-01],\n",
       "        [-4.73875813e-02],\n",
       "        [ 2.08351105e-01],\n",
       "        [-1.65441170e-01],\n",
       "        [ 2.23184988e-01],\n",
       "        [-6.95188344e-02],\n",
       "        [ 2.26113096e-01],\n",
       "        [-4.78586853e-02],\n",
       "        [ 6.62387609e-02],\n",
       "        [-6.04959428e-02],\n",
       "        [ 9.54760313e-02],\n",
       "        [-1.09543614e-01],\n",
       "        [-2.10069403e-01],\n",
       "        [ 4.34734300e-02],\n",
       "        [-1.94499865e-01],\n",
       "        [ 1.85084507e-01],\n",
       "        [ 1.67500809e-01],\n",
       "        [ 1.55662924e-01],\n",
       "        [-6.10486604e-02],\n",
       "        [-2.17894182e-01],\n",
       "        [ 1.77241594e-01],\n",
       "        [-1.75746828e-01],\n",
       "        [-2.78643280e-01],\n",
       "        [ 5.03434353e-02],\n",
       "        [-1.70791671e-01],\n",
       "        [-1.58937469e-01],\n",
       "        [-2.32429698e-01],\n",
       "        [ 1.74154550e-01],\n",
       "        [ 2.12499112e-01],\n",
       "        [-3.22756246e-02],\n",
       "        [-9.64640975e-02],\n",
       "        [-8.60445723e-02],\n",
       "        [ 1.47411004e-01],\n",
       "        [-2.26509050e-01],\n",
       "        [-3.36813778e-02],\n",
       "        [ 1.81889236e-01],\n",
       "        [ 5.66621982e-02],\n",
       "        [-1.81846783e-01],\n",
       "        [ 3.40855092e-01],\n",
       "        [ 7.06201128e-04],\n",
       "        [ 2.65927017e-01],\n",
       "        [ 1.97281078e-01],\n",
       "        [ 1.95237160e-01],\n",
       "        [-9.59292948e-02],\n",
       "        [ 1.71381906e-01],\n",
       "        [-9.75417197e-02],\n",
       "        [ 1.10676795e-01],\n",
       "        [-1.53645545e-01],\n",
       "        [ 7.76722282e-02],\n",
       "        [ 4.51116860e-02],\n",
       "        [ 2.05443799e-01],\n",
       "        [-3.11504006e-02],\n",
       "        [-7.93634355e-02],\n",
       "        [ 1.79013968e-01],\n",
       "        [ 1.33504122e-01],\n",
       "        [-1.19241439e-01],\n",
       "        [-1.17886961e-01],\n",
       "        [-9.41774920e-02],\n",
       "        [ 1.08447766e+00],\n",
       "        [ 4.66807753e-01],\n",
       "        [ 3.43871981e-01],\n",
       "        [ 7.21388683e-02],\n",
       "        [-2.43082449e-01],\n",
       "        [-1.63972273e-01],\n",
       "        [-7.50209615e-02],\n",
       "        [ 1.91778809e-01],\n",
       "        [ 1.08006135e-01],\n",
       "        [-1.63633704e-01],\n",
       "        [ 2.00647175e-01],\n",
       "        [ 1.03698529e-01],\n",
       "        [-1.92785054e-01],\n",
       "        [-2.27483779e-01],\n",
       "        [-1.77433267e-02],\n",
       "        [ 4.53863032e-02],\n",
       "        [-1.09839238e-01],\n",
       "        [-2.68379394e-02],\n",
       "        [ 1.44893780e-01],\n",
       "        [ 1.96876839e-01],\n",
       "        [-2.89227255e-02],\n",
       "        [ 1.23557523e-01],\n",
       "        [ 2.14780286e-01],\n",
       "        [-1.36348888e-01]], dtype=float32),\n",
       " array([1.3637244], dtype=float32)]"
      ]
     },
     "execution_count": 4,
     "metadata": {},
     "output_type": "execute_result"
    }
   ],
   "source": [
    "model.get_weights()"
   ]
  },
  {
   "cell_type": "code",
   "execution_count": 5,
   "metadata": {},
   "outputs": [],
   "source": [
    "# Helper Function \n",
    "## function to decode reviews\n",
    "\n",
    "def decode_review(encoded_review):\n",
    "    return ' '.join([reverse_word_index.get(i-3, '?') for i in encoded_review])\n",
    "\n",
    "## Function to preprocess user input\n",
    "def preprocess_text(text):\n",
    "    words = text.lower().split()\n",
    "    encoded_review = [word_index.get(word,2) + 3 for word in words]\n",
    "    padded_review = sequence.pad_sequences([encoded_review],maxlen = 500)\n",
    "    return padded_review"
   ]
  },
  {
   "cell_type": "code",
   "execution_count": 6,
   "metadata": {},
   "outputs": [],
   "source": [
    "## prediction function\n",
    "\n",
    "def prediction_sentiment(review):\n",
    "    preprocessed_input = preprocess_text(review)\n",
    "    prediction = model.predict(preprocessed_input)\n",
    "    \n",
    "    sentiment = 'Positive' if prediction[0][0] > 0.5 else 'Negative'\n",
    "    \n",
    "    return sentiment, prediction[0][0]\n"
   ]
  },
  {
   "cell_type": "code",
   "execution_count": 7,
   "metadata": {},
   "outputs": [
    {
     "name": "stdout",
     "output_type": "stream",
     "text": [
      "\u001b[1m1/1\u001b[0m \u001b[32m━━━━━━━━━━━━━━━━━━━━\u001b[0m\u001b[37m\u001b[0m \u001b[1m0s\u001b[0m 189ms/step\n",
      "Review : This movie very good! The acting was great and the plot was thrilling and very exited.\n",
      "Sentiment: Positive\n",
      "Prediction score: 0.7380505204200745\n"
     ]
    }
   ],
   "source": [
    "## User input and prediction\n",
    "\n",
    "example_review = \"This movie very good! The acting was great and the plot was thrilling and very exited.\"\n",
    "\n",
    "sentiment, score = prediction_sentiment(example_review)\n",
    "\n",
    "print(f'Review : {example_review}')\n",
    "print(f'Sentiment: {sentiment}')\n",
    "print(f'Prediction score: {score}')"
   ]
  },
  {
   "cell_type": "code",
   "execution_count": null,
   "metadata": {},
   "outputs": [],
   "source": []
  },
  {
   "cell_type": "code",
   "execution_count": null,
   "metadata": {},
   "outputs": [],
   "source": []
  },
  {
   "cell_type": "code",
   "execution_count": null,
   "metadata": {},
   "outputs": [],
   "source": []
  }
 ],
 "metadata": {
  "kernelspec": {
   "display_name": "Python 3",
   "language": "python",
   "name": "python3"
  },
  "language_info": {
   "codemirror_mode": {
    "name": "ipython",
    "version": 3
   },
   "file_extension": ".py",
   "mimetype": "text/x-python",
   "name": "python",
   "nbconvert_exporter": "python",
   "pygments_lexer": "ipython3",
   "version": "3.11.0"
  }
 },
 "nbformat": 4,
 "nbformat_minor": 2
}
